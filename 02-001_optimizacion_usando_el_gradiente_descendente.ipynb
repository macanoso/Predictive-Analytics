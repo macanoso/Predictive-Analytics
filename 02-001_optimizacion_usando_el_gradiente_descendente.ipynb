{
  "nbformat": 4,
  "nbformat_minor": 0,
  "metadata": {
    "interpreter": {
      "hash": "31f2aee4e71d21fbe5cf8b01ff0e069b9275f58929596ceb00d14d90e3e16cd6"
    },
    "kernelspec": {
      "display_name": "Python 3",
      "language": "python",
      "name": "python3"
    },
    "language_info": {
      "codemirror_mode": {
        "name": "ipython",
        "version": 3
      },
      "file_extension": ".py",
      "mimetype": "text/x-python",
      "name": "python",
      "nbconvert_exporter": "python",
      "pygments_lexer": "ipython3",
      "version": "3.6.9"
    },
    "colab": {
      "name": "MATEO_optimizacion_usando_el_gradiente_descendente.ipynb",
      "provenance": []
    }
  },
  "cells": [
    {
      "cell_type": "markdown",
      "metadata": {
        "toc-hr-collapsed": false,
        "id": "Wtj79jLkEq_J"
      },
      "source": [
        "Optimización usando el gradiente descendente\n",
        "==="
      ]
    },
    {
      "cell_type": "code",
      "metadata": {
        "id": "gYE8tIwNEq_O",
        "colab": {
          "base_uri": "https://localhost:8080/"
        },
        "outputId": "64d0427a-7819-4de2-cc77-e16ea44879d3"
      },
      "source": [
        "#\n",
        "# A partir del código suministrado, determine la solucion encontrada y el valor\n",
        "# de la función de Rosenbrock para 100, 500, 1000, 2000 y 3000 iteraciones \n",
        "# partiendo siempre del mismo punto de arranque con coordenadas x = -0.5 y\n",
        "# y = 3.5. Use pandas para construir la tabla e imprimirla (use print).\n",
        "#\n",
        "# Rta/\n",
        "#    Iterations         x         y    f(x,y)\n",
        "# 0         100 -1.436412  2.070779  5.941728\n",
        "# 1         500 -1.203561  1.456364  4.861773\n",
        "# 2        1000 -0.807119  0.659530  3.272222\n",
        "# 3        2000  0.499842  0.247335  0.250787\n",
        "# 4        3000  0.761484  0.578762  0.057010\n",
        "#\n",
        "\n",
        "import numpy as np\n",
        "import pandas as pd\n",
        "\n",
        "\n",
        "def f(x, y):\n",
        "    return 100 * (x ** 2 - y) ** 2 + (1 - x) ** 2\n",
        "\n",
        "def g(x, y):\n",
        "    gx = 400 * x * (x ** 2 - y) - 2 * (1 - x)\n",
        "    gy = -200 * (x ** 2 - y)\n",
        "    return (gx, gy)\n",
        "\n",
        "def improve(x, y, mu):\n",
        "    gx, gy = g(x, y)\n",
        "    x = x - mu * gx\n",
        "    y = y - mu * gy\n",
        "    return (x, y)\n",
        "\n",
        "\n",
        "# Punto de inicio\n",
        "x = -0.5\n",
        "y = +3.5\n",
        "\n",
        "# Almacena la historia de los puntos recorridos\n",
        "history_x = [x]\n",
        "history_y = [y]\n",
        "history_f = [f(x, y)]\n",
        "\n",
        "# ---->>> Inserte su codigo aquí ---->>>\n",
        "\n",
        "\n",
        "\n",
        "# ---->>> Evaluación ---->>>\n",
        "for epoch in range(3000):\n",
        "    x, y = improve(x, y, 0.001)\n",
        "    history_x.append(x)\n",
        "    history_y.append(y)\n",
        "    history_f.append(f(x, y))\n",
        "\n",
        "Iterations=(100,500,1000,2000,3000)\n",
        "history_x_new = []\n",
        "for i in Iterations:\n",
        "  history_x_new.append(history_x[i])\n",
        "  \n",
        "history_y_new = []\n",
        "for i in Iterations:\n",
        "  history_y_new.append(history_y[i])\n",
        "\n",
        "history_f_new = []\n",
        "for i in Iterations:\n",
        "  history_f_new.append(history_f[i])\n",
        "\n",
        "History_Table = pd.DataFrame()\n",
        "History_Table[\"Iterations\"]=Iterations\n",
        "History_Table[\"x\"]=history_x_new\n",
        "History_Table[\"y\"]=history_y_new\n",
        "History_Table[\"f(x,y)\"]=history_f_new\n",
        "print(History_Table)"
      ],
      "execution_count": null,
      "outputs": [
        {
          "output_type": "stream",
          "name": "stdout",
          "text": [
            "   Iterations         x         y    f(x,y)\n",
            "0         100 -1.436412  2.070779  5.941728\n",
            "1         500 -1.203561  1.456364  4.861773\n",
            "2        1000 -0.807119  0.659530  3.272222\n",
            "3        2000  0.499842  0.247335  0.250787\n",
            "4        3000  0.761484  0.578762  0.057010\n"
          ]
        }
      ]
    }
  ]
}