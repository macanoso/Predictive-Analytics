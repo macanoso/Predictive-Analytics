{
  "cells": [
    {
      "cell_type": "markdown",
      "metadata": {
        "id": "ronKbMaQZwz_"
      },
      "source": [
        "Análisis de sentimientos de mensajes en Amazon usando Naive Bayes\n",
        "==="
      ]
    },
    {
      "cell_type": "markdown",
      "metadata": {
        "id": "FECgk2hRZw0I"
      },
      "source": [
        "El archivo que se encuentra disponible en el link"
      ]
    },
    {
      "cell_type": "markdown",
      "metadata": {
        "id": "FaZEmRQMZw0J"
      },
      "source": [
        "https://raw.githubusercontent.com/jdvelasq/datalabs/master/datasets/amazon_cells_labelled.tsv"
      ]
    },
    {
      "cell_type": "markdown",
      "metadata": {
        "id": "ARODlxivZw0K"
      },
      "source": [
        "contiene mensajes escritos por los usuarios para productos comprados en Amazon y su valoración (positiva, negativa e indeterminada). En este laboratorio se debe construir un clasificador bayesiano que debe ser entrenado con los mensajes valorados, el cual debe ser posteriormente utilizado para valorar los mensajes con valoración indeterminada."
      ]
    },
    {
      "cell_type": "markdown",
      "source": [
        "##**Carga de datos y de librerias**"
      ],
      "metadata": {
        "id": "kd5NIxLIaO5Y"
      }
    },
    {
      "cell_type": "code",
      "source": [
        "import warnings\n",
        "import pandas as pd\n",
        "import pytest\n",
        "from sklearn.neural_network import MLPRegressor\n",
        "from sklearn.metrics import mean_squared_error\n",
        "from sklearn.compose import ColumnTransformer\n",
        "from sklearn.compose import make_column_transformer\n",
        "from sklearn.preprocessing import StandardScaler\n",
        "from sklearn.compose import make_column_selector\n",
        "from sklearn import svm\n",
        "from sklearn.pipeline import Pipeline\n",
        "import numpy as np\n",
        "from sklearn.model_selection import train_test_split\n",
        "from sklearn.metrics import ConfusionMatrixDisplay\n",
        "from sklearn.preprocessing import MinMaxScaler\n",
        "from sklearn.metrics import mean_squared_error\n",
        "\n",
        "\n",
        "\n",
        "warnings.filterwarnings(\"ignore\")"
      ],
      "metadata": {
        "id": "an9BSYEaaSkm"
      },
      "execution_count": 32,
      "outputs": []
    },
    {
      "cell_type": "markdown",
      "source": [
        "Los datos son `tsv`, se brinda nombre a las columnas y los datos faltantes se remplazan con NA, la cual hace referencia a una valuación indeterminada."
      ],
      "metadata": {
        "id": "InHcZ_UXdDyy"
      }
    },
    {
      "cell_type": "code",
      "source": [
        "pd.set_option(\"display.notebook_repr_html\", True)\n",
        "\n",
        "data = pd.read_csv(\n",
        "    \"https://raw.githubusercontent.com/jdvelasq/datalabs/master/datasets/amazon_cells_labelled.tsv\",\n",
        "    sep=\"\\t\",\n",
        "    header=None)\n",
        "\n",
        "data.columns=[\"Text\",\"label\"]\n",
        "\n",
        "\n",
        "\n",
        "data"
      ],
      "metadata": {
        "colab": {
          "base_uri": "https://localhost:8080/",
          "height": 424
        },
        "id": "FuJK3NxsafNB",
        "outputId": "7f09ab71-5d3b-4487-a10c-50e338a5ee8d"
      },
      "execution_count": 33,
      "outputs": [
        {
          "output_type": "execute_result",
          "data": {
            "text/html": [
              "\n",
              "  <div id=\"df-62019569-0a74-4f94-932a-4fd74a47863e\">\n",
              "    <div class=\"colab-df-container\">\n",
              "      <div>\n",
              "<style scoped>\n",
              "    .dataframe tbody tr th:only-of-type {\n",
              "        vertical-align: middle;\n",
              "    }\n",
              "\n",
              "    .dataframe tbody tr th {\n",
              "        vertical-align: top;\n",
              "    }\n",
              "\n",
              "    .dataframe thead th {\n",
              "        text-align: right;\n",
              "    }\n",
              "</style>\n",
              "<table border=\"1\" class=\"dataframe\">\n",
              "  <thead>\n",
              "    <tr style=\"text-align: right;\">\n",
              "      <th></th>\n",
              "      <th>Text</th>\n",
              "      <th>label</th>\n",
              "    </tr>\n",
              "  </thead>\n",
              "  <tbody>\n",
              "    <tr>\n",
              "      <th>0</th>\n",
              "      <td>I try not to adjust the volume setting to avoi...</td>\n",
              "      <td>NaN</td>\n",
              "    </tr>\n",
              "    <tr>\n",
              "      <th>1</th>\n",
              "      <td>So there is no way for me to plug it in here i...</td>\n",
              "      <td>0.0</td>\n",
              "    </tr>\n",
              "    <tr>\n",
              "      <th>2</th>\n",
              "      <td>Good case, Excellent value.</td>\n",
              "      <td>1.0</td>\n",
              "    </tr>\n",
              "    <tr>\n",
              "      <th>3</th>\n",
              "      <td>I thought Motorola made reliable products!.</td>\n",
              "      <td>NaN</td>\n",
              "    </tr>\n",
              "    <tr>\n",
              "      <th>4</th>\n",
              "      <td>Battery for Motorola Razr.</td>\n",
              "      <td>NaN</td>\n",
              "    </tr>\n",
              "    <tr>\n",
              "      <th>...</th>\n",
              "      <td>...</td>\n",
              "      <td>...</td>\n",
              "    </tr>\n",
              "    <tr>\n",
              "      <th>14604</th>\n",
              "      <td>The screen on my phone said \"Not Charging\".</td>\n",
              "      <td>NaN</td>\n",
              "    </tr>\n",
              "    <tr>\n",
              "      <th>14605</th>\n",
              "      <td>This is my 4th Samsung cell phone with T-Mobile.</td>\n",
              "      <td>NaN</td>\n",
              "    </tr>\n",
              "    <tr>\n",
              "      <th>14606</th>\n",
              "      <td>great company.</td>\n",
              "      <td>NaN</td>\n",
              "    </tr>\n",
              "    <tr>\n",
              "      <th>14607</th>\n",
              "      <td>The \"call\" and \"hang-up\" keys are now properly...</td>\n",
              "      <td>NaN</td>\n",
              "    </tr>\n",
              "    <tr>\n",
              "      <th>14608</th>\n",
              "      <td>Hopefully the Kyocera will be better!</td>\n",
              "      <td>NaN</td>\n",
              "    </tr>\n",
              "  </tbody>\n",
              "</table>\n",
              "<p>14609 rows × 2 columns</p>\n",
              "</div>\n",
              "      <button class=\"colab-df-convert\" onclick=\"convertToInteractive('df-62019569-0a74-4f94-932a-4fd74a47863e')\"\n",
              "              title=\"Convert this dataframe to an interactive table.\"\n",
              "              style=\"display:none;\">\n",
              "        \n",
              "  <svg xmlns=\"http://www.w3.org/2000/svg\" height=\"24px\"viewBox=\"0 0 24 24\"\n",
              "       width=\"24px\">\n",
              "    <path d=\"M0 0h24v24H0V0z\" fill=\"none\"/>\n",
              "    <path d=\"M18.56 5.44l.94 2.06.94-2.06 2.06-.94-2.06-.94-.94-2.06-.94 2.06-2.06.94zm-11 1L8.5 8.5l.94-2.06 2.06-.94-2.06-.94L8.5 2.5l-.94 2.06-2.06.94zm10 10l.94 2.06.94-2.06 2.06-.94-2.06-.94-.94-2.06-.94 2.06-2.06.94z\"/><path d=\"M17.41 7.96l-1.37-1.37c-.4-.4-.92-.59-1.43-.59-.52 0-1.04.2-1.43.59L10.3 9.45l-7.72 7.72c-.78.78-.78 2.05 0 2.83L4 21.41c.39.39.9.59 1.41.59.51 0 1.02-.2 1.41-.59l7.78-7.78 2.81-2.81c.8-.78.8-2.07 0-2.86zM5.41 20L4 18.59l7.72-7.72 1.47 1.35L5.41 20z\"/>\n",
              "  </svg>\n",
              "      </button>\n",
              "      \n",
              "  <style>\n",
              "    .colab-df-container {\n",
              "      display:flex;\n",
              "      flex-wrap:wrap;\n",
              "      gap: 12px;\n",
              "    }\n",
              "\n",
              "    .colab-df-convert {\n",
              "      background-color: #E8F0FE;\n",
              "      border: none;\n",
              "      border-radius: 50%;\n",
              "      cursor: pointer;\n",
              "      display: none;\n",
              "      fill: #1967D2;\n",
              "      height: 32px;\n",
              "      padding: 0 0 0 0;\n",
              "      width: 32px;\n",
              "    }\n",
              "\n",
              "    .colab-df-convert:hover {\n",
              "      background-color: #E2EBFA;\n",
              "      box-shadow: 0px 1px 2px rgba(60, 64, 67, 0.3), 0px 1px 3px 1px rgba(60, 64, 67, 0.15);\n",
              "      fill: #174EA6;\n",
              "    }\n",
              "\n",
              "    [theme=dark] .colab-df-convert {\n",
              "      background-color: #3B4455;\n",
              "      fill: #D2E3FC;\n",
              "    }\n",
              "\n",
              "    [theme=dark] .colab-df-convert:hover {\n",
              "      background-color: #434B5C;\n",
              "      box-shadow: 0px 1px 3px 1px rgba(0, 0, 0, 0.15);\n",
              "      filter: drop-shadow(0px 1px 2px rgba(0, 0, 0, 0.3));\n",
              "      fill: #FFFFFF;\n",
              "    }\n",
              "  </style>\n",
              "\n",
              "      <script>\n",
              "        const buttonEl =\n",
              "          document.querySelector('#df-62019569-0a74-4f94-932a-4fd74a47863e button.colab-df-convert');\n",
              "        buttonEl.style.display =\n",
              "          google.colab.kernel.accessAllowed ? 'block' : 'none';\n",
              "\n",
              "        async function convertToInteractive(key) {\n",
              "          const element = document.querySelector('#df-62019569-0a74-4f94-932a-4fd74a47863e');\n",
              "          const dataTable =\n",
              "            await google.colab.kernel.invokeFunction('convertToInteractive',\n",
              "                                                     [key], {});\n",
              "          if (!dataTable) return;\n",
              "\n",
              "          const docLinkHtml = 'Like what you see? Visit the ' +\n",
              "            '<a target=\"_blank\" href=https://colab.research.google.com/notebooks/data_table.ipynb>data table notebook</a>'\n",
              "            + ' to learn more about interactive tables.';\n",
              "          element.innerHTML = '';\n",
              "          dataTable['output_type'] = 'display_data';\n",
              "          await google.colab.output.renderOutput(dataTable, element);\n",
              "          const docLink = document.createElement('div');\n",
              "          docLink.innerHTML = docLinkHtml;\n",
              "          element.appendChild(docLink);\n",
              "        }\n",
              "      </script>\n",
              "    </div>\n",
              "  </div>\n",
              "  "
            ],
            "text/plain": [
              "                                                    Text  label\n",
              "0      I try not to adjust the volume setting to avoi...    NaN\n",
              "1      So there is no way for me to plug it in here i...    0.0\n",
              "2                            Good case, Excellent value.    1.0\n",
              "3            I thought Motorola made reliable products!.    NaN\n",
              "4                             Battery for Motorola Razr.    NaN\n",
              "...                                                  ...    ...\n",
              "14604        The screen on my phone said \"Not Charging\".    NaN\n",
              "14605   This is my 4th Samsung cell phone with T-Mobile.    NaN\n",
              "14606                                     great company.    NaN\n",
              "14607  The \"call\" and \"hang-up\" keys are now properly...    NaN\n",
              "14608              Hopefully the Kyocera will be better!    NaN\n",
              "\n",
              "[14609 rows x 2 columns]"
            ]
          },
          "metadata": {},
          "execution_count": 33
        }
      ]
    },
    {
      "cell_type": "code",
      "execution_count": 34,
      "metadata": {
        "id": "i0-BPmdQZw0L",
        "colab": {
          "base_uri": "https://localhost:8080/"
        },
        "outputId": "630da9d9-071b-48eb-cb41-34e874eabdbb"
      },
      "outputs": [
        {
          "output_type": "execute_result",
          "data": {
            "text/plain": [
              "14609"
            ]
          },
          "metadata": {},
          "execution_count": 34
        }
      ],
      "source": [
        "#\n",
        "# Cargue el archivo usando Pandas e imprima la cantidad de\n",
        "# registros\n",
        "#\n",
        "# Rta/\n",
        "# 14609\n",
        "#\n",
        "import pandas as pd\n",
        "\n",
        "data.shape[0]"
      ]
    },
    {
      "cell_type": "code",
      "execution_count": 35,
      "metadata": {
        "id": "O3SC_j4EZw0M",
        "colab": {
          "base_uri": "https://localhost:8080/",
          "height": 35
        },
        "outputId": "81c2b803-aec7-42e8-edf9-3692359da478"
      },
      "outputs": [
        {
          "output_type": "execute_result",
          "data": {
            "application/vnd.google.colaboratory.intrinsic+json": {
              "type": "string"
            },
            "text/plain": [
              "'I try not to adjust the volume setting to avoid that I turn off the call button which is situated just below the volume adjustment knob.'"
            ]
          },
          "metadata": {},
          "execution_count": 35
        }
      ],
      "source": [
        "#\n",
        "# Imprima el primer mensaje de texto.\n",
        "#\n",
        "# Rta/\n",
        "# 'I try not to adjust the volume setting to avoid that I turn off the call button which is situated just below the volume adjustment knob.'\n",
        "#\n",
        "data.iloc[0][0]"
      ]
    },
    {
      "cell_type": "code",
      "execution_count": 36,
      "metadata": {
        "id": "jux0w7F6Zw0N",
        "colab": {
          "base_uri": "https://localhost:8080/"
        },
        "outputId": "2b16bfad-96fd-49a2-ac81-dc7a56f93d22"
      },
      "outputs": [
        {
          "output_type": "execute_result",
          "data": {
            "text/plain": [
              "13609"
            ]
          },
          "metadata": {},
          "execution_count": 36
        }
      ],
      "source": [
        "#\n",
        "# Imprima la cantidad de mensajes con NaN\n",
        "#\n",
        "# Rta/\n",
        "# 13609\n",
        "#\n",
        "data['label'].isna().sum()\n",
        "\n"
      ]
    },
    {
      "cell_type": "code",
      "execution_count": 37,
      "metadata": {
        "id": "HcSwCKnNZw0O",
        "colab": {
          "base_uri": "https://localhost:8080/"
        },
        "outputId": "ac98dc48-00f1-43e7-f233-699dc25835ef"
      },
      "outputs": [
        {
          "output_type": "execute_result",
          "data": {
            "text/plain": [
              "500"
            ]
          },
          "metadata": {},
          "execution_count": 37
        }
      ],
      "source": [
        "#\n",
        "# Imprima la cantidad de mensajes con valoración igual a 1.0\n",
        "#\n",
        "# Rta/\n",
        "# 500\n",
        "#\n",
        "filtr = data['label'] == 1\n",
        "filtr.sum()"
      ]
    },
    {
      "cell_type": "code",
      "execution_count": 38,
      "metadata": {
        "id": "v5e8WAXkZw0P",
        "colab": {
          "base_uri": "https://localhost:8080/"
        },
        "outputId": "5a6e5718-801f-4d7d-8627-9a10150c9b4d"
      },
      "outputs": [
        {
          "output_type": "execute_result",
          "data": {
            "text/plain": [
              "500"
            ]
          },
          "metadata": {},
          "execution_count": 38
        }
      ],
      "source": [
        "#\n",
        "# Imprima la cantidad de mensajes con valoración igual a 0.0\n",
        "#\n",
        "# Rta/\n",
        "# 500\n",
        "#\n",
        "filtr = data['label'] == 0\n",
        "filtr.sum()"
      ]
    },
    {
      "cell_type": "code",
      "execution_count": 39,
      "metadata": {
        "id": "dBbHAGU4Zw0Q",
        "colab": {
          "base_uri": "https://localhost:8080/"
        },
        "outputId": "f51ca52a-fa55-4651-dee8-72025b5bf273"
      },
      "outputs": [
        {
          "output_type": "execute_result",
          "data": {
            "text/plain": [
              "1000"
            ]
          },
          "metadata": {},
          "execution_count": 39
        }
      ],
      "source": [
        "#\n",
        "# Genere un nuevo dataset que contenga únicamente los registros\n",
        "# con valoración positiva o negativa e imprima su longitud\n",
        "#\n",
        "# Rta/\n",
        "# 1000\n",
        "#\n",
        "\n",
        "new_data = data.copy()\n",
        "new_data = new_data.dropna()\n",
        "new_data.shape[0]\n",
        "\n"
      ]
    },
    {
      "cell_type": "code",
      "execution_count": 40,
      "metadata": {
        "id": "L4pk_j6kZw0R",
        "colab": {
          "base_uri": "https://localhost:8080/",
          "height": 35
        },
        "outputId": "684ce51f-b26a-4590-c8fc-f04fbf92dd48"
      },
      "outputs": [
        {
          "output_type": "execute_result",
          "data": {
            "application/vnd.google.colaboratory.intrinsic+json": {
              "type": "string"
            },
            "text/plain": [
              "'so there is no way for me to plug it in here in the us unless i go by a converter.'"
            ]
          },
          "metadata": {},
          "execution_count": 40
        }
      ],
      "source": [
        "#\n",
        "# Genere una nueva columna en el nuevo dataset computada como\n",
        "# el resultado de aplicar el stemmer de Porter al mensaje e\n",
        "# imprima el primer mensaje transformado\n",
        "#\n",
        "# Rta/\n",
        "# 'so there is no way for me to plug it in here in the us unless i go by a converter.'\n",
        "#\n",
        "\n",
        "from nltk.stem import PorterStemmer \n",
        "\n",
        "ps = PorterStemmer()\n",
        "\n",
        "#new_data[\"PorterStemmer\"] = new_data[\"Text\"].str.lower().apply(lambda x: [ps.stem(y) for y in x])\n",
        "#new_data.iloc[0,2]\n",
        "#new_data\n",
        "\n",
        "\n",
        "#new_data['Splitted']=new_data['Text'].str.lower().apply(lambda x : filter(None,x.split(\" \")))\n",
        "#new_data['ApplyPorter']=new_data['Splitted'].apply(lambda x : [ps.stem(y) for y in x])\n",
        "#new_data['PorterStemmer']=new_data['ApplyPorter'].apply(lambda x : \" \".join(x))\n",
        "new_data['PorterStemmer']=new_data['Text'].apply(lambda x: \" \".join([ps.stem(w) for w in x.split()])).str.lower()\n",
        "data_Porter=new_data[['Text', 'PorterStemmer','label']]\n",
        "data_Porter.iloc[0,1]"
      ]
    },
    {
      "cell_type": "code",
      "execution_count": 41,
      "metadata": {
        "id": "1eNvMv7tZw0S",
        "colab": {
          "base_uri": "https://localhost:8080/"
        },
        "outputId": "99ccc706-391c-4866-c859-4d38164f9d1f"
      },
      "outputs": [
        {
          "output_type": "execute_result",
          "data": {
            "text/plain": [
              "1554"
            ]
          },
          "metadata": {},
          "execution_count": 41
        }
      ],
      "source": [
        "#\n",
        "# Construya la matriz de terminos del documento considerando\n",
        "# las palabras que tengan una frecuencia entre el 0.1% y el 98%,\n",
        "# y que esten unicamente conformadas por letras.\n",
        "#\n",
        "# Imprima el tamaño del vocabulario.\n",
        "#\n",
        "# Rta/\n",
        "# 1554\n",
        "#\n",
        "\n",
        "from sklearn.feature_extraction.text import CountVectorizer\n",
        "\n",
        "#token_pattern=r'(?u)\\b\\w*[a-zA-Z]\\w*\\b'\n",
        "\n",
        "#vectorizer = CountVectorizer(max_df=0.98, min_df=0.0001,stop_words='english')\n",
        "#vectorizer = CountVectorizer(analyzer=\"word\",max_df=0.98, min_df=0.0001,token_pattern=r\"(?u)\\b[a-zA-Z][a-zA-Z]+\\b\")\n",
        "vectorizer= CountVectorizer(\n",
        "    analyzer=\"word\",                # a nivel de palabra\n",
        "    lowercase=True,                 # convierte a minúsculas\n",
        "    stop_words=\"english\",           # stop_words en inglés\n",
        "    token_pattern=r\"(?u)\\b\\w\\w+\\b\", # patrones a reconocer\n",
        "    max_df=0.98,                     # máxima frecuencia a considerar\n",
        "    min_df=1,                       # ignora palabras con baja frecuencia\n",
        ")\n",
        "\n",
        "X = vectorizer.fit_transform(data_Porter['PorterStemmer']).toarray()\n",
        "df_new = pd.DataFrame(X, columns=vectorizer.get_feature_names())\n",
        "\n",
        "df_new.shape[1]\n"
      ]
    },
    {
      "cell_type": "code",
      "execution_count": 42,
      "metadata": {
        "id": "bt8UkdQhZw0S",
        "colab": {
          "base_uri": "https://localhost:8080/"
        },
        "outputId": "83ac155d-1ba1-4b0c-9782-76f442539f21"
      },
      "outputs": [
        {
          "output_type": "execute_result",
          "data": {
            "text/plain": [
              "1.0    52.2\n",
              "0.0    47.8\n",
              "Name: label, dtype: float64"
            ]
          },
          "metadata": {},
          "execution_count": 42
        }
      ],
      "source": [
        "#\n",
        "# Construya un clasificador bayesiano que use los primeros\n",
        "# 500 patrones para entrenamiento y los últimos 500 para\n",
        "# prueba, e imprima el porcentaje de datos para cada clase\n",
        "# para la muestra de entrenamiento-\n",
        "#\n",
        "# Rta/\n",
        "# 1.0    52.2\n",
        "# 0.0    47.8\n",
        "# Name: label, dtype: float64\n",
        "#\n",
        "X_train = df_new[0:500]\n",
        "X_test = df_new[500:]\n",
        "\n",
        "y_train = new_data.label[0:500]\n",
        "y_test = new_data.label[500:]\n",
        "\n",
        "round(100 * y_train.value_counts() / sum(y_train.value_counts()), 1)"
      ]
    },
    {
      "cell_type": "code",
      "execution_count": 43,
      "metadata": {
        "id": "8Juh0Mk0Zw0T",
        "colab": {
          "base_uri": "https://localhost:8080/"
        },
        "outputId": "64f9e517-523f-487a-8a2a-43aff69f52e3"
      },
      "outputs": [
        {
          "output_type": "execute_result",
          "data": {
            "text/plain": [
              "0.0    52.2\n",
              "1.0    47.8\n",
              "Name: label, dtype: float64"
            ]
          },
          "metadata": {},
          "execution_count": 43
        }
      ],
      "source": [
        "#\n",
        "# Imprima el porcentaje de datos para cada clase para la muestra\n",
        "# de prueba, redondeado a un decimal.\n",
        "#\n",
        "# Rta/\n",
        "# 0.0    52.2\n",
        "# 1.0    47.8\n",
        "# Name: label, dtype: float64\n",
        "#\n",
        "\n",
        "round(100 * y_test.value_counts() / sum(y_train.value_counts()), 1)\n"
      ]
    },
    {
      "cell_type": "code",
      "execution_count": 44,
      "metadata": {
        "id": "X3brYw95Zw0U",
        "colab": {
          "base_uri": "https://localhost:8080/"
        },
        "outputId": "64f7d479-73b7-49df-b725-82b5e7536f21"
      },
      "outputs": [
        {
          "output_type": "execute_result",
          "data": {
            "text/plain": [
              "array([[214,  25],\n",
              "       [  1, 260]])"
            ]
          },
          "metadata": {},
          "execution_count": 44
        }
      ],
      "source": [
        "#\n",
        "# Cree un clasificador de Bayes y entrenelo. Realice el pronostico\n",
        "# para la muestra de entrenamiento y compute la matriz de confusion\n",
        "#\n",
        "# Rta/\n",
        "# array([[214,  25],\n",
        "#        [  1, 260]])\n",
        "#\n",
        "from sklearn.naive_bayes import BernoulliNB\n",
        "from sklearn.metrics import confusion_matrix\n",
        "\n",
        "gnb = BernoulliNB()\n",
        "\n",
        "gnb.fit(X_train, y_train)\n",
        "\n",
        "y_train_pred = gnb.predict(X_train)\n",
        "\n",
        "\n",
        "r = confusion_matrix(y_true=y_train, y_pred=y_train_pred)\n",
        "r.astype('int')"
      ]
    },
    {
      "cell_type": "code",
      "execution_count": 45,
      "metadata": {
        "id": "I_SrLWp_Zw0U",
        "colab": {
          "base_uri": "https://localhost:8080/"
        },
        "outputId": "57c74667-9dc6-4339-e302-6af36a14b72e"
      },
      "outputs": [
        {
          "output_type": "execute_result",
          "data": {
            "text/plain": [
              "array([[153, 108],\n",
              "       [ 32, 207]])"
            ]
          },
          "metadata": {},
          "execution_count": 45
        }
      ],
      "source": [
        "#\n",
        "# Realice el pronóstico para la muestra de entrenamiento y compute\n",
        "# la matriz de confusión\n",
        "#\n",
        "# Rta/\n",
        "# array([[153, 108],\n",
        "#        [ 32, 207]])\n",
        "#\n",
        "\n",
        "y_test_pred = gnb.predict(X_test)\n",
        "\n",
        "\n",
        "r = confusion_matrix(y_true=y_test, y_pred=y_test_pred)\n",
        "r.astype('int')"
      ]
    },
    {
      "cell_type": "code",
      "execution_count": 46,
      "metadata": {
        "id": "tU6hbHg7Zw0V",
        "colab": {
          "base_uri": "https://localhost:8080/"
        },
        "outputId": "b3a47bdf-d036-48ab-9c26-ec8a148c2ad5"
      },
      "outputs": [
        {
          "output_type": "execute_result",
          "data": {
            "text/plain": [
              "8284"
            ]
          },
          "metadata": {},
          "execution_count": 46
        }
      ],
      "source": [
        "#\n",
        "# Realice el pronostico para los mensajes con valoración \n",
        "# indeterminada y compute la cantidad de mensajes positivos\n",
        "#\n",
        "# Rta/\n",
        "# 8284\n",
        "#\n",
        "from nltk.stem import PorterStemmer\n",
        "\n",
        "from sklearn.feature_extraction.text import CountVectorizer\n",
        "\n",
        "ps = PorterStemmer()\n",
        "\n",
        "Data_Predicted = data[data.isnull().any(axis=1)]\n",
        "\n",
        "#apply PorterStemmer\n",
        "\n",
        "Data_Predicted['PorterStemmer']=Data_Predicted['Text'].apply(lambda x: \" \".join([ps.stem(w) for w in x.split()])).str.lower()\n",
        "Data_Predicted=Data_Predicted[['Text', 'PorterStemmer','label']]\n",
        "\n",
        "X = vectorizer.transform(Data_Predicted.PorterStemmer)\n",
        "\n",
        "Pronostico = gnb.predict(X)\n",
        "Positive = list(filter(lambda x: x==1,Pronostico))\n",
        "len(Positive)"
      ]
    }
  ],
  "metadata": {
    "interpreter": {
      "hash": "31f2aee4e71d21fbe5cf8b01ff0e069b9275f58929596ceb00d14d90e3e16cd6"
    },
    "kernel_info": {
      "name": "python3"
    },
    "kernelspec": {
      "display_name": "Python 3",
      "language": "python",
      "name": "python3"
    },
    "language_info": {
      "codemirror_mode": {
        "name": "ipython",
        "version": 3
      },
      "file_extension": ".py",
      "mimetype": "text/x-python",
      "name": "python",
      "nbconvert_exporter": "python",
      "pygments_lexer": "ipython3",
      "version": "3.6.9"
    },
    "nteract": {
      "version": "0.7.1"
    },
    "varInspector": {
      "cols": {
        "lenName": 16,
        "lenType": 16,
        "lenVar": 40
      },
      "kernels_config": {
        "python": {
          "delete_cmd_postfix": "",
          "delete_cmd_prefix": "del ",
          "library": "var_list.py",
          "varRefreshCmd": "print(var_dic_list())"
        },
        "r": {
          "delete_cmd_postfix": ") ",
          "delete_cmd_prefix": "rm(",
          "library": "var_list.r",
          "varRefreshCmd": "cat(var_dic_list()) "
        }
      },
      "types_to_exclude": [
        "module",
        "function",
        "builtin_function_or_method",
        "instance",
        "_Feature"
      ],
      "window_display": false
    },
    "colab": {
      "name": "MATEO_analisis_de_sentimientos_en_amazon_usando_bayes.ipynb",
      "provenance": [],
      "collapsed_sections": []
    }
  },
  "nbformat": 4,
  "nbformat_minor": 0
}